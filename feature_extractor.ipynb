{
  "nbformat": 4,
  "nbformat_minor": 0,
  "metadata": {
    "colab": {
      "name": "feature-extractor.ipynb",
      "provenance": [],
      "collapsed_sections": []
    },
    "kernelspec": {
      "name": "python3",
      "display_name": "Python 3"
    },
    "language_info": {
      "name": "python"
    },
    "accelerator": "GPU"
  },
  "cells": [
    {
      "cell_type": "code",
      "metadata": {
        "colab": {
          "base_uri": "https://localhost:8080/"
        },
        "id": "9NhiWBVyAwgn",
        "outputId": "e2a5bf26-902a-4efa-df29-8bc04d667dbd"
      },
      "source": [
        "%cd drive/MyDrive/Complexity-Measure/"
      ],
      "execution_count": 21,
      "outputs": [
        {
          "output_type": "stream",
          "text": [
            "/content/drive/MyDrive/Complexity-Measure\n"
          ],
          "name": "stdout"
        }
      ]
    },
    {
      "cell_type": "code",
      "metadata": {
        "id": "V97iWnn8tr0O"
      },
      "source": [
        "from tensorflow.keras.applications import VGG16, Xception, ResNet50V2\n",
        "from tensorflow.keras.layers import *\n",
        "from tensorflow.keras.models import Model, Sequential\n",
        "from tensorflow.keras import optimizers\n",
        "from tensorflow.keras import regularizers\n",
        "import numpy as np\n",
        "import cv2\n",
        "from tensorflow.keras.datasets import mnist"
      ],
      "execution_count": 6,
      "outputs": []
    },
    {
      "cell_type": "code",
      "metadata": {
        "id": "He3HPWXsuNH1"
      },
      "source": [
        "from keras import backend as K\n",
        "K.clear_session()"
      ],
      "execution_count": 7,
      "outputs": []
    },
    {
      "cell_type": "code",
      "metadata": {
        "colab": {
          "base_uri": "https://localhost:8080/"
        },
        "id": "MZtnFOUvwEfu",
        "outputId": "0086040e-3fde-49e4-a19e-bd69619c9491"
      },
      "source": [
        "(x_train, y_train), (x_test, y_test) = mnist.load_data()\n",
        "x_train.shape, y_train.shape"
      ],
      "execution_count": 8,
      "outputs": [
        {
          "output_type": "stream",
          "text": [
            "Downloading data from https://storage.googleapis.com/tensorflow/tf-keras-datasets/mnist.npz\n",
            "11493376/11490434 [==============================] - 0s 0us/step\n"
          ],
          "name": "stdout"
        },
        {
          "output_type": "execute_result",
          "data": {
            "text/plain": [
              "((60000, 28, 28), (60000,))"
            ]
          },
          "metadata": {
            "tags": []
          },
          "execution_count": 8
        }
      ]
    },
    {
      "cell_type": "code",
      "metadata": {
        "id": "EtOWpBcK-SK7"
      },
      "source": [
        "def one_to_three_dim(x_train, dim):\n",
        "  img_lst = []\n",
        "  for i in range(len(x_train)):\n",
        "    img = cv2.resize(x_train[i], dim, interpolation = cv2.INTER_AREA) \n",
        "    img = np.asarray(np.dstack((img, img, img)), dtype=np.uint8)\n",
        "    img_lst.append(img)\n",
        "  rgb_arr = np.stack([img_lst],axis=4)\n",
        "  rgb_arr_to_3d = np.squeeze(rgb_arr, axis=4)\n",
        "  return rgb_arr_to_3d"
      ],
      "execution_count": 9,
      "outputs": []
    },
    {
      "cell_type": "code",
      "metadata": {
        "id": "ZCo4LOq2_Gnr"
      },
      "source": [
        "def feature_extractor(images, model, x, y, z):\n",
        "  feature_list = []\n",
        "  for i in range(len(images)):\n",
        "    img_array = np.expand_dims(images[i], axis=0)\n",
        "    features = model.predict(img_array)\n",
        "    feature_list.append(features)\n",
        "  feat_lt = np.reshape(feature_list, (-1, x*y*z))\n",
        "  return feat_lt"
      ],
      "execution_count": 19,
      "outputs": []
    },
    {
      "cell_type": "code",
      "metadata": {
        "colab": {
          "base_uri": "https://localhost:8080/"
        },
        "id": "05__77bX2JmS",
        "outputId": "13a85238-3bcf-4bfa-a861-14d5097be340"
      },
      "source": [
        "dim = (72, 72)\n",
        "rgb_list = one_to_three_dim(x_train, dim)\n",
        "print(rgb_list.shape)"
      ],
      "execution_count": 11,
      "outputs": [
        {
          "output_type": "stream",
          "text": [
            "(60000, 72, 72, 3)\n"
          ],
          "name": "stdout"
        }
      ]
    },
    {
      "cell_type": "code",
      "metadata": {
        "colab": {
          "base_uri": "https://localhost:8080/"
        },
        "id": "jutDBsFZ3pu7",
        "outputId": "7f7f2088-d232-45f5-8402-b3f6e415893a"
      },
      "source": [
        "vgg = VGG16(weights='imagenet',\n",
        "            include_top=False,\n",
        "            input_shape=(72, 72, 3))\n",
        "\n",
        "for layers in vgg.layers:\n",
        "  layers.trainable=False\n",
        "\n",
        "print(vgg.output)\n"
      ],
      "execution_count": 13,
      "outputs": [
        {
          "output_type": "stream",
          "text": [
            "Downloading data from https://storage.googleapis.com/tensorflow/keras-applications/vgg16/vgg16_weights_tf_dim_ordering_tf_kernels_notop.h5\n",
            "58892288/58889256 [==============================] - 0s 0us/step\n",
            "KerasTensor(type_spec=TensorSpec(shape=(None, 2, 2, 512), dtype=tf.float32, name=None), name='block5_pool/MaxPool:0', description=\"created by layer 'block5_pool'\")\n"
          ],
          "name": "stdout"
        }
      ]
    },
    {
      "cell_type": "code",
      "metadata": {
        "id": "cFCDp3oNAJJh"
      },
      "source": [
        "vgg_features = feature_extractor(rgb_list[0:1000, :, :, :], vgg, 2, 2, 512)\n",
        "np.save(\"vgg16_features.npy\", vgg_features)"
      ],
      "execution_count": 20,
      "outputs": []
    },
    {
      "cell_type": "code",
      "metadata": {
        "id": "QGVLXM5TCt9t"
      },
      "source": [
        "np.save(\"vgg16_features.npy\", vgg_features)\n",
        "# feat_lt = np.load(\"vgg16_features.npy\")"
      ],
      "execution_count": 22,
      "outputs": []
    },
    {
      "cell_type": "code",
      "metadata": {
        "colab": {
          "base_uri": "https://localhost:8080/"
        },
        "id": "JID1FLbUESIv",
        "outputId": "bf85f6ee-0d30-4cdb-d9a0-754b9790a1ad"
      },
      "source": [
        "xception = Xception(weights='imagenet',\n",
        "            include_top=False,\n",
        "            input_shape=(72, 72, 3))\n",
        "\n",
        "for layers in xception.layers:\n",
        "  layers.trainable=False\n",
        "\n",
        "print(xception.output)"
      ],
      "execution_count": 14,
      "outputs": [
        {
          "output_type": "stream",
          "text": [
            "Downloading data from https://storage.googleapis.com/tensorflow/keras-applications/xception/xception_weights_tf_dim_ordering_tf_kernels_notop.h5\n",
            "83689472/83683744 [==============================] - 1s 0us/step\n",
            "KerasTensor(type_spec=TensorSpec(shape=(None, 3, 3, 2048), dtype=tf.float32, name=None), name='block14_sepconv2_act/Relu:0', description=\"created by layer 'block14_sepconv2_act'\")\n"
          ],
          "name": "stdout"
        }
      ]
    },
    {
      "cell_type": "code",
      "metadata": {
        "id": "hEX0N8TlA719"
      },
      "source": [
        "xception_features = feature_extractor(rgb_list[0:1000, :, :, :], xception, 3, 3, 2048)\n",
        "np.save(\"xception_features.npy\", xception_features)"
      ],
      "execution_count": 23,
      "outputs": []
    },
    {
      "cell_type": "code",
      "metadata": {
        "colab": {
          "base_uri": "https://localhost:8080/"
        },
        "id": "eOwW_3U9I1X0",
        "outputId": "74297856-fa29-4360-999f-c18f62c7d0e2"
      },
      "source": [
        "resnet = ResNet50V2(weights='imagenet',\n",
        "            include_top=False,\n",
        "            input_shape=(72, 72, 3))\n",
        "\n",
        "for layers in resnet.layers:\n",
        "  layers.trainable=False\n",
        "\n",
        "print(resnet.output)"
      ],
      "execution_count": 15,
      "outputs": [
        {
          "output_type": "stream",
          "text": [
            "Downloading data from https://storage.googleapis.com/tensorflow/keras-applications/resnet/resnet50v2_weights_tf_dim_ordering_tf_kernels_notop.h5\n",
            "94674944/94668760 [==============================] - 1s 0us/step\n",
            "KerasTensor(type_spec=TensorSpec(shape=(None, 3, 3, 2048), dtype=tf.float32, name=None), name='post_relu/Relu:0', description=\"created by layer 'post_relu'\")\n"
          ],
          "name": "stdout"
        }
      ]
    },
    {
      "cell_type": "code",
      "metadata": {
        "id": "RYXcJAYbJzBu"
      },
      "source": [
        "resnet_features = feature_extractor(rgb_list[0:1000, :, :, :], resnet, 3, 3, 2048)\n",
        "np.save(\"resnet_features.npy\", resnet_features)"
      ],
      "execution_count": 24,
      "outputs": []
    },
    {
      "cell_type": "code",
      "metadata": {
        "colab": {
          "base_uri": "https://localhost:8080/"
        },
        "id": "HxZU-DrLARwW",
        "outputId": "867e04f8-04c4-4204-992e-2780d72d6fb0"
      },
      "source": [
        "vgg_features.shape, xception_features.shape, resnet_features.shape"
      ],
      "execution_count": 25,
      "outputs": [
        {
          "output_type": "execute_result",
          "data": {
            "text/plain": [
              "((1000, 2048), (1000, 18432), (1000, 18432))"
            ]
          },
          "metadata": {
            "tags": []
          },
          "execution_count": 25
        }
      ]
    },
    {
      "cell_type": "code",
      "metadata": {
        "id": "JFSy70oEB4j0"
      },
      "source": [
        ""
      ],
      "execution_count": null,
      "outputs": []
    }
  ]
}